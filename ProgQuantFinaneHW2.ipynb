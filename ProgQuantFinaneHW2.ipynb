{
 "cells": [
  {
   "cell_type": "code",
   "execution_count": 18,
   "metadata": {},
   "outputs": [],
   "source": [
    "import numpy as np\n",
    "import math \n",
    "import datetime as dt\n",
    "import matplotlib.pyplot as plt\n",
    "import scipy.stats"
   ]
  },
  {
   "cell_type": "code",
   "execution_count": 3,
   "metadata": {},
   "outputs": [],
   "source": [
    "class vol:          #define a class to calculate the volatility required to do other computations \n",
    "    def __init__(self,m,S0,K,T,r,q,v):\n",
    "        self.m=m\n",
    "        self.S0=S0\n",
    "        self.K=K\n",
    "        self.T=T\n",
    "        self.r=r\n",
    "        self.q=q\n",
    "        self.v=v\n",
    "        self.z= np.random.normal(size=m)       #create a vector with m standard normal values\n",
    "        self.St=self.S0*np.exp((self.r-self.q-self.v**2/2)*self.T + self.v*np.sqrt(self.T)*self.z) #create a vector with m future prices\n",
    "        \n",
    "        #volatility will be calculated as the standard deviation of a vector of m payoffs\n",
    "        \n",
    "    def callsigma(self):    #a method to return the vol of the call option.\n",
    "        payoff=np.exp(-self.r*self.T)*np.maximum(self.St-self.K,0)\n",
    "        return np.std(payoff)\n",
    "    \n",
    "    def putsigma(self): # a method to return volatility of the put option \n",
    "        payoff= np.exp(-self.r*self.T)*np.maximum(self.K-self.St,0)\n",
    "        return np.std(payoff)\n",
    "    \n",
    "    def forwardsigma(self): # a method to return volatility of the forward contract \n",
    "        payoff=np.exp(-self.r*self.T)*self.St\n",
    "        return np.std(payoff)\n",
    "        "
   ]
  },
  {
   "cell_type": "code",
   "execution_count": 4,
   "metadata": {},
   "outputs": [],
   "source": [
    "class yolo:\n",
    "    def __init__(self,tol,m,S0,K,T,r,q,v,trade):\n",
    "        self.tol=tol\n",
    "        self.m=m\n",
    "        self.S0=S0\n",
    "        self.K=K\n",
    "        self.T=T\n",
    "        self.r=r\n",
    "        self.q=q\n",
    "        self.v=v\n",
    "        self.x=vol(self.m,self.S0,self.K,self.T,self.r,self.q,self.v) #create an atrribute of the simulated volatility \n",
    "        self.trade= trade   # a string of what derivative we are looking for (call,put or forward) to use the correspoding vol\n",
    "        \n",
    "    def Ncalc(self):               # method to calculate N ,answers question 1 section A part I \n",
    "        if self.trade=='call':\n",
    "            return (1.96*self.x.callsigma()/self.tol)**2\n",
    "        elif self.trade =='put':\n",
    "            return (1.96*self.x.putsigma()/self.tol)**2\n",
    "        else:\n",
    "            return (1.96*self.x.forwardsigma()/self.tol)**2\n",
    "    \n",
    "    def results(self,antithetical='No'):   #method to answer the question 1 section A part II ,and section C\n",
    "        if antithetical== 'No':    #if no extra parameter is entered,we do not perform antithetical sampling \n",
    "            \n",
    "            if self.trade=='call':\n",
    "                z=np.random.normal(size=math.ceil(self.Ncalc()))            #calculate a new sample of size N ,we need to round it up because only an integer can be an input arguement \n",
    "                St=self.S0*np.exp((self.r-self.q-self.v**2/2)*self.T + self.v*np.sqrt(self.T)*z)    #calculate new price sample size N\n",
    "                payoff= np.exp(-self.r*self.T)*np.maximum(St-self.K,0)           #calculate new payoff sample of size N \n",
    "                Vsim= np.mean(payoff)                                           #calculate the simulated price as the average of the sample\n",
    "                return self.Ncalc(),Vsim, [Vsim-self.tol,Vsim+self.tol]          #return what the question is asking \n",
    "        \n",
    "            if self.trade== 'put':\n",
    "                z=np.random.normal(size=math.ceil(self.Ncalc()))\n",
    "                St=self.S0*np.exp((self.r-self.q-self.v**2/2)*self.T + self.v*np.sqrt(self.T)*z)\n",
    "                payoff=np.exp(-self.r*self.T)*np.maximum(self.K-St,0)\n",
    "                Vsim = np.mean(payoff)\n",
    "                return self.Ncalc(),Vsim,[Vsim-self.tol, Vsim+self.tol]\n",
    "        \n",
    "            if self.trade=='forward':\n",
    "            \n",
    "                z=np.random.normal(size=math.ceil(self.Ncalc()))\n",
    "                St=self.S0*np.exp((self.r-self.q-self.v**2/2)*self.T + self.v*np.sqrt(self.T)*z)\n",
    "                payoff= np.exp(-self.r*self.T)*St\n",
    "                Vsim= np.mean(payoff)\n",
    "                return self.Ncalc(),Vsim,[Vsim-self.tol,Vsim+self.tol]\n",
    "        \n",
    "        elif antithetical=='Yes':\n",
    "            \n",
    "            if self.trade=='call':\n",
    "                z1=np.random.normal(size=math.ceil(self.Ncalc()/2))         #take half of N,round it up to the nearest int\n",
    "                z=np.append(z1,-z1)                                                  #create the antithetical sample \n",
    "                St=self.S0*np.exp((self.r-self.q-self.v**2/2)*self.T + self.v*np.sqrt(self.T)*z)    \n",
    "                payoff= np.exp(-self.r*self.T)*np.maximum(St-self.K,0)           \n",
    "                Vsim= np.mean(payoff)                                           \n",
    "                return self.Ncalc(),Vsim, [Vsim-self.tol,Vsim+self.tol]\n",
    "            \n",
    "            if self.trade== 'put':\n",
    "                z1=np.random.normal(size=math.ceil(self.Ncalc()/2))\n",
    "                z=np.append(z1,-z1)\n",
    "                St=self.S0*np.exp((self.r-self.q-self.v**2/2)*self.T + self.v*np.sqrt(self.T)*z)\n",
    "                payoff=np.exp(-self.r*self.T)*np.maximum(self.K-St,0)\n",
    "                Vsim = np.mean(payoff)\n",
    "                return self.Ncalc(),Vsim,[Vsim-self.tol, Vsim+self.tol]\n",
    "            \n",
    "            if self.trade=='forward':\n",
    "            \n",
    "                z1=np.random.normal(size=math.ceil(self.Ncalc()/2))\n",
    "                z=np.append(z1,-z1)\n",
    "                St=self.S0*np.exp((self.r-self.q-self.v**2/2)*self.T + self.v*np.sqrt(self.T)*z)\n",
    "                payoff= np.exp(-self.r*self.T)*St\n",
    "                Vsim= np.mean(payoff)\n",
    "                return self.Ncalc(),Vsim,[Vsim-self.tol,Vsim+self.tol]\n",
    "                \n",
    "            \n",
    "            \n",
    "            \n",
    "        \n",
    "            \n",
    "    "
   ]
  },
  {
   "cell_type": "code",
   "execution_count": 117,
   "metadata": {},
   "outputs": [
    {
     "name": "stdout",
     "output_type": "stream",
     "text": [
      "(41811736.40549226, 28.530192615207387, [28.430192615207385, 28.63019261520739])\n",
      "(201896.9879150558, 46.852836426685045, [46.75283642668504, 46.952836426685046])\n",
      "(27355230.930204153, 48.115540997025064, [48.01554099702506, 48.215540997025066])\n"
     ]
    }
   ],
   "source": [
    "#Answers question1  section A part III\n",
    "\n",
    "for i in ['call','put','forward']:    \n",
    "    x=yolo(0.1,100000,180,160,88,0.01,0.015,0.2,i)\n",
    "    print(x.results())\n",
    "    \n",
    "    \n",
    "    \n",
    "    "
   ]
  },
  {
   "cell_type": "code",
   "execution_count": 96,
   "metadata": {},
   "outputs": [
    {
     "data": {
      "text/plain": [
       "88"
      ]
     },
     "execution_count": 96,
     "metadata": {},
     "output_type": "execute_result"
    }
   ],
   "source": [
    "abs(dt.date(2018,7,3)-dt.date(2018,4,6)).days   # to get the difference in days used in the previous question "
   ]
  },
  {
   "cell_type": "code",
   "execution_count": 7,
   "metadata": {},
   "outputs": [],
   "source": [
    "#Answers question 1 section B   if you try to rerun this, beware it takes about 30 mins\n",
    "\n",
    "callsim=np.zeros(1000)       #create zero vectors that will later store the values of the simulations\n",
    "putsim=np.zeros(1000)\n",
    "forwardsim=np.zeros(1000)\n",
    "x=yolo(0.1,100000,180,160,88,0.01,0.015,0.2,'call')\n",
    "y=yolo(0.1,100000,180,160,88,0.01,0.015,0.2,'put')\n",
    "z=yolo(0.1,100000,180,160,88,0.01,0.015,0.2,'forward')\n",
    "for i in range(1000):                                 #repeat the proceedure from the previous question 1000 times\n",
    "    \n",
    "    \n",
    "    \n",
    "    callsim[i]=x.results()[1]            #take the element at position 1 ,which is Vsim and add it to the nparray of Vsims\n",
    "    putsim[i]=y.results()[1]\n",
    "    forwardsim[i]=z.results()[1]\n",
    "\n",
    "\n",
    "\n",
    "    \n",
    "  \n",
    "    "
   ]
  },
  {
   "cell_type": "code",
   "execution_count": 8,
   "metadata": {},
   "outputs": [
    {
     "data": {
      "text/plain": [
       "(array([ 2.,  0.,  0.,  1.,  2.,  5.,  3.,  4.,  6., 14.,  8., 17., 14.,\n",
       "        28., 33., 34., 30., 36., 35., 55., 42., 54., 50., 73., 50., 64.,\n",
       "        49., 48., 37., 44., 25., 32., 25., 20., 13., 13., 11., 11.,  6.,\n",
       "         2.,  1.,  0.,  1.,  0.,  1.,  0.,  0.,  0.,  0.,  1.]),\n",
       " array([47.92530275, 47.93217021, 47.93903767, 47.94590513, 47.9527726 ,\n",
       "        47.95964006, 47.96650752, 47.97337498, 47.98024244, 47.9871099 ,\n",
       "        47.99397736, 48.00084482, 48.00771229, 48.01457975, 48.02144721,\n",
       "        48.02831467, 48.03518213, 48.04204959, 48.04891705, 48.05578451,\n",
       "        48.06265198, 48.06951944, 48.0763869 , 48.08325436, 48.09012182,\n",
       "        48.09698928, 48.10385674, 48.11072421, 48.11759167, 48.12445913,\n",
       "        48.13132659, 48.13819405, 48.14506151, 48.15192897, 48.15879643,\n",
       "        48.1656639 , 48.17253136, 48.17939882, 48.18626628, 48.19313374,\n",
       "        48.2000012 , 48.20686866, 48.21373612, 48.22060359, 48.22747105,\n",
       "        48.23433851, 48.24120597, 48.24807343, 48.25494089, 48.26180835,\n",
       "        48.26867581]),\n",
       " <a list of 50 Patch objects>)"
      ]
     },
     "execution_count": 8,
     "metadata": {},
     "output_type": "execute_result"
    },
    {
     "data": {
      "image/png": "[encoded data removed]",
      "text/plain": [
       "<Figure size 432x288 with 3 Axes>"
      ]
     },
     "metadata": {
      "needs_background": "light"
     },
     "output_type": "display_data"
    }
   ],
   "source": [
    "#answer to question 1 section B plots\n",
    "\n",
    "fig,axs= plt.subplots(3)\n",
    "\n",
    "axs[0].hist(callsim,bins=50)\n",
    "axs[1].hist(putsim,bins=50)\n",
    "axs[2].hist(forwardsim,bins=50)\n"
   ]
  },
  {
   "cell_type": "code",
   "execution_count": 9,
   "metadata": {},
   "outputs": [],
   "source": [
    "#answer to question 1 section C  , again beware if you run this that it takes about 30 mins\n",
    "\n",
    "callsim=np.zeros(1000)       \n",
    "putsim=np.zeros(1000)\n",
    "forwardsim=np.zeros(1000)\n",
    "x=yolo(0.1,100000,180,160,88,0.01,0.015,0.2,'call')\n",
    "y=yolo(0.1,100000,180,160,88,0.01,0.015,0.2,'put')\n",
    "z=yolo(0.1,100000,180,160,88,0.01,0.015,0.2,'forward')\n",
    "for i in range(1000):                                 \n",
    "    \n",
    "    \n",
    "    \n",
    "    callsim[i]=x.results('Yes')[1]            #this time select yes, to  perform antithetical sampling\n",
    "    putsim[i]=y.results('Yes')[1]\n",
    "    forwardsim[i]=z.results('Yes')[1]"
   ]
  },
  {
   "cell_type": "code",
   "execution_count": 10,
   "metadata": {},
   "outputs": [
    {
     "data": {
      "text/plain": [
       "(array([ 3.,  2.,  1.,  2.,  2.,  3.,  7., 11.,  9.,  9., 10., 16., 19.,\n",
       "        24., 26., 33., 46., 44., 43., 35., 31., 41., 56., 37., 66., 49.,\n",
       "        46., 40., 42., 44., 33., 31., 23., 20., 13., 17., 15.,  9., 11.,\n",
       "         6.,  6.,  6.,  4.,  2.,  3.,  1.,  1.,  0.,  0.,  2.]),\n",
       " array([47.91726857, 47.92445257, 47.93163658, 47.93882058, 47.94600459,\n",
       "        47.95318859, 47.9603726 , 47.9675566 , 47.9747406 , 47.98192461,\n",
       "        47.98910861, 47.99629262, 48.00347662, 48.01066063, 48.01784463,\n",
       "        48.02502864, 48.03221264, 48.03939665, 48.04658065, 48.05376465,\n",
       "        48.06094866, 48.06813266, 48.07531667, 48.08250067, 48.08968468,\n",
       "        48.09686868, 48.10405269, 48.11123669, 48.1184207 , 48.1256047 ,\n",
       "        48.1327887 , 48.13997271, 48.14715671, 48.15434072, 48.16152472,\n",
       "        48.16870873, 48.17589273, 48.18307674, 48.19026074, 48.19744475,\n",
       "        48.20462875, 48.21181275, 48.21899676, 48.22618076, 48.23336477,\n",
       "        48.24054877, 48.24773278, 48.25491678, 48.26210079, 48.26928479,\n",
       "        48.2764688 ]),\n",
       " <a list of 50 Patch objects>)"
      ]
     },
     "execution_count": 10,
     "metadata": {},
     "output_type": "execute_result"
    },
    {
     "data": {
      "image/png": "[encoded data removed]",
      "text/plain": [
       "<Figure size 432x288 with 3 Axes>"
      ]
     },
     "metadata": {
      "needs_background": "light"
     },
     "output_type": "display_data"
    }
   ],
   "source": [
    "#answer to question 1 section C plots \n",
    "fig,axs= plt.subplots(3)                           #we can see that the variance is reduced when we perform antihetical sampling\n",
    "\n",
    "axs[0].hist(callsim,bins=50)\n",
    "axs[1].hist(putsim,bins=50)\n",
    "axs[2].hist(forwardsim,bins=50)"
   ]
  },
  {
   "cell_type": "code",
   "execution_count": 21,
   "metadata": {},
   "outputs": [],
   "source": [
    "#Answers Question 1 section D part I.   Create a new function that computes a numerical delta \n",
    "\n",
    "def delta(S0,K,T,r,q,v,trade,epsilon,tol):\n",
    "    x= yolo(tol,100000,S0,K,T,r,q,v,trade)     #produce one object to gather the call/put/forward sample from , reminder that each object when instantiated calls a seperate class to compute a new sample standard deviation\n",
    "    y=yolo(tol,100000,S0+epsilon,K,T,r,q,v,trade)    #produce another one, with a different initial price \n",
    "    return (x.results()[1]-y.results()[1])/epsilon\n",
    "    "
   ]
  },
  {
   "cell_type": "code",
   "execution_count": 36,
   "metadata": {},
   "outputs": [
    {
     "name": "stdout",
     "output_type": "stream",
     "text": [
      "-0.21776216768038498 0.20790159248941467 0.4256637601697997\n"
     ]
    }
   ],
   "source": [
    "#we are going to test convergence on a call \n",
    "\n",
    "test= delta(180,160,88,0.01,0.015,0.2,'call',0.01*180,0.1)\n",
    "\n",
    "\n",
    "#we know that the delta is exp(-q*T)*N(d1) so:\n",
    "\n",
    "theoretical = np.exp(-0.015*88)*scipy.stats.norm.cdf((np.log(180/160)+(0.01-0.015+0.2**2/2)*88)/(0.2*88**(1/2)))\n",
    "\n",
    "print(test,theoretical,abs(test-theoretical))\n",
    "\n",
    "\n",
    "# the difference is varies around 0.37 if we test it many times , this does not seem like a  good approximation \n",
    "                                                     "
   ]
  },
  {
   "cell_type": "code",
   "execution_count": 32,
   "metadata": {},
   "outputs": [],
   "source": [
    "#Answers Question 1 section D part II. The way i have constructed this classes from the beggining, i cannot draw \n",
    "#call/put/forward simulations for 2 different starting prices with the same \"z\" vector.Restructuring the entire class could take\n",
    "#a full day, so i am gonna do it manually by defining new functions. We are going to test on a call option again \n",
    "def delta2(S0,K,T,r,q,v,trade,epsilon,tol):\n",
    "    \n",
    "    test1= yolo(tol,100000,S0,K,T,r,q,v,trade)   # we need to first calculate the N required for both these cases (2 options with different prices) and then we need the different  volatilities for these prices \n",
    "    test2= yolo(tol,100000,S0+epsilon,K,T,r,q,v,trade)\n",
    "\n",
    "# Since N is a function of the sample standard deviation which is a function of the starting price, these 2 will\n",
    "# have different N, so in order to create 1 \"z\" vector with the same amount of elements, we are going to pick the larger N \n",
    "# to ensure that during all of this we still fall in the 95% confidence interval that is required \n",
    "\n",
    "    n=np.maximum(test1.Ncalc(),test2.Ncalc())\n",
    "    z=np.random.normal(size=math.ceil(n))\n",
    "    St1=S0*np.exp((r-q-v**2/2)*T+v*T**(1/2)*z)\n",
    "    St2= (S0+epsilon)*np.exp((r-q-v**2/2)*T+v*T**(1/2)*z)\n",
    "    payoff1 = np.exp(-r*T)*np.maximum(St1-K,0)\n",
    "    payoff2= np.exp(-r*T)*np.maximum(St2-K,0)\n",
    "    Vsim1=np.mean(payoff1)\n",
    "    Vsim2=np.mean(payoff2)\n",
    "    return (Vsim2-Vsim1)/epsilon\n",
    "    \n",
    "    \n",
    "    \n",
    "    \n",
    "    \n",
    "     \n",
    "\n"
   ]
  },
  {
   "cell_type": "code",
   "execution_count": 35,
   "metadata": {},
   "outputs": [
    {
     "name": "stdout",
     "output_type": "stream",
     "text": [
      "0.20786518890710048 0.20790159248941467 3.640358231418728e-05\n"
     ]
    }
   ],
   "source": [
    "zzzzz= delta2(180,160,88,0.01,0.015,0.2,'call',0.01*180,0.1)\n",
    "print(zzzzz,theoretical,abs(zzzzz-theoretical))\n",
    "\n",
    "#as we can see, the difference is now almost 0. The convergence is way more successful "
   ]
  },
  {
   "cell_type": "code",
   "execution_count": 57,
   "metadata": {},
   "outputs": [],
   "source": [
    "#Question 2.    First of all we have to recreate a class to calculate the volatilities this time of the correlated GBM's\n",
    "#then we need another class to recalculate the N for both of them , and then take the maximum, and then perform the simulations \n",
    "\n",
    "\n",
    "class vol2:          \n",
    "    def __init__(self,m,S10,S20,K,T,r,q1,q2,v1,v2,rho):\n",
    "        self.m=m\n",
    "        self.S10=S10\n",
    "        self.S20=S20\n",
    "        self.K=K\n",
    "        self.T=T\n",
    "        self.r=r\n",
    "        self.q1=q1\n",
    "        self.q2=q2\n",
    "        self.v1=v1\n",
    "        self.v2=v2\n",
    "        self.rho=rho\n",
    "        self.z= np.random.multivariate_normal(mean=[0,0],cov=([1,self.rho],[self.rho,1]),size=self.m)    #create a multivariate vector with m standard normal valuesand correlation rho\n",
    "        self.St1=self.S10*np.exp((self.r-self.q1-self.v1**2/2)*self.T + self.v1*np.sqrt(self.T)*self.z[:,0]) \n",
    "        self.St2=self.S20*np.exp((self.r-self.q2-self.v2**2/2)*self.T+self.v2*np.sqrt(self.T)*self.z[:,1])\n",
    "        \n",
    "        #assign the first column f the multivariate normal to 1 vector of future prices of St1 , the other to St2\n",
    "        \n",
    "    def callsigma(self):    #a method to return the vol of the call option.\n",
    "        payoff=np.exp(-self.r*self.T)*np.maximum(self.St1-self.St2-self.K,0)\n",
    "        return np.std(payoff)\n",
    "    \n",
    "    def putsigma(self): # a method to return volatility of the put option \n",
    "        payoff= np.exp(-self.r*self.T)*np.maximum(self.K-self.St1-self.St2,0)\n",
    "        return np.std(payoff)\n",
    "    \n",
    "  "
   ]
  },
  {
   "cell_type": "code",
   "execution_count": 62,
   "metadata": {},
   "outputs": [],
   "source": [
    "#Now we adjust the yolo class as well to calculate N , and then simulate the call and put spread payoffs but this time with \n",
    "#the bivariate normal with correlation \n",
    "\n",
    "class yolo2:\n",
    "    def __init__(self,tol,m,S10,S20,K,T,r,q1,q2,v1,v2,trade,rho):\n",
    "        self.tol=tol\n",
    "        self.m=m\n",
    "        self.S10=S10\n",
    "        self.S20=S20\n",
    "        self.K=K\n",
    "        self.T=T\n",
    "        self.r=r\n",
    "        self.q1=q1\n",
    "        self.q2=q2\n",
    "        self.v1=v1\n",
    "        self.v2=v2\n",
    "        self.rho=rho\n",
    "        self.x=vol2(self.m,self.S10,self.S20,self.K,self.T,self.r,self.q1,self.q2,self.v1,self.v2,self.rho) #create an atrribute of the simulated volatility \n",
    "        self.trade= trade   # a string of what derivative we are looking for (call,put or forward) to use the correspoding vol\n",
    "        \n",
    "    def Ncalc2(self):               # method to calculate N ,answers question 1 section A part I \n",
    "        if self.trade=='call':\n",
    "            return (1.96*self.x.callsigma()/self.tol)**2\n",
    "        elif self.trade =='put':\n",
    "            return (1.96*self.x.putsigma()/self.tol)**2\n",
    "        \n",
    "    def results2(self):\n",
    "        z= np.random.multivariate_normal(mean=[0,0],cov=([1,self.rho],[self.rho,1]),size=math.ceil(self.Ncalc2()))\n",
    "        St1=self.S10*np.exp((self.r-self.q1-self.v1**2/2)*self.T + self.v1*np.sqrt(self.T)*z[:,0]) \n",
    "        St2=self.S20*np.exp((self.r-self.q2-self.v2**2/2)*self.T+self.v2*np.sqrt(self.T)*z[:,1])\n",
    "        if self.trade=='call':\n",
    "            payoff=np.exp(-self.r*self.T)*np.maximum(St1-St2-self.K,0)\n",
    "            return np.mean(payoff)\n",
    "        if self.trade=='put':\n",
    "            payoff=np.exp(-self.r*self.T)*np.maximum(self.K-St1-St2,0)\n",
    "            return np.mean(payoff)\n",
    "        \n",
    "        \n",
    "        \n"
   ]
  },
  {
   "cell_type": "code",
   "execution_count": 63,
   "metadata": {},
   "outputs": [
    {
     "name": "stdout",
     "output_type": "stream",
     "text": [
      "25.29884296035372\n",
      "0.08417974587715785\n"
     ]
    }
   ],
   "source": [
    "for i in ['call','put']:\n",
    "    last= yolo2(0.1,100000,180,120,20,180,0.02,0.01,0.015,0.2,0.2,i,0.7)\n",
    "    print(last.results2())\n"
   ]
  },
  {
   "cell_type": "code",
   "execution_count": null,
   "metadata": {},
   "outputs": [],
   "source": []
  }
 ],
 "metadata": {
  "kernelspec": {
   "display_name": "Python 3",
   "language": "python",
   "name": "python3"
  },
  "language_info": {
   "codemirror_mode": {
    "name": "ipython",
    "version": 3
   },
   "file_extension": ".py",
   "mimetype": "text/x-python",
   "name": "python",
   "nbconvert_exporter": "python",
   "pygments_lexer": "ipython3",
   "version": "3.8.3"
  }
 },
 "nbformat": 4,
 "nbformat_minor": 4
}
